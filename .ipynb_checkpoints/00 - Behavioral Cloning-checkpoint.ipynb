{
 "cells": [
  {
   "cell_type": "markdown",
   "metadata": {},
   "source": [
    "# Behavioral Cloning\n",
    "### Galen Ballew, 2017\n",
    "### Udacity SDCE ND"
   ]
  },
  {
   "cell_type": "code",
   "execution_count": 1,
   "metadata": {
    "collapsed": true
   },
   "outputs": [],
   "source": [
    "import pandas as pd\n",
    "import numpy as np\n",
    "import matplotlib.pyplot as plt\n",
    "import sklearn\n",
    "import csv\n",
    "import cv2\n",
    "%matplotlib inline\n",
    "plt.style.use('fivethirtyeight')"
   ]
  },
  {
   "cell_type": "markdown",
   "metadata": {},
   "source": [
    "## Data Munging and Exploratory Data Analysis"
   ]
  },
  {
   "cell_type": "code",
   "execution_count": 2,
   "metadata": {},
   "outputs": [
    {
     "name": "stdout",
     "output_type": "stream",
     "text": [
      "(15070, 7)\n"
     ]
    },
    {
     "data": {
      "text/html": [
       "<div>\n",
       "<table border=\"1\" class=\"dataframe\">\n",
       "  <thead>\n",
       "    <tr style=\"text-align: right;\">\n",
       "      <th></th>\n",
       "      <th>center</th>\n",
       "      <th>left</th>\n",
       "      <th>right</th>\n",
       "      <th>steering_angle</th>\n",
       "      <th>throttle</th>\n",
       "      <th>brake</th>\n",
       "      <th>speed</th>\n",
       "    </tr>\n",
       "  </thead>\n",
       "  <tbody>\n",
       "    <tr>\n",
       "      <th>0</th>\n",
       "      <td>C:/Users/Galen/Documents/GitHub/behavioral-clo...</td>\n",
       "      <td>C:/Users/Galen/Documents/GitHub/behavioral-clo...</td>\n",
       "      <td>C:/Users/Galen/Documents/GitHub/behavioral-clo...</td>\n",
       "      <td>0.0</td>\n",
       "      <td>0.0</td>\n",
       "      <td>0.0</td>\n",
       "      <td>8.071614</td>\n",
       "    </tr>\n",
       "  </tbody>\n",
       "</table>\n",
       "</div>"
      ],
      "text/plain": [
       "                                              center  \\\n",
       "0  C:/Users/Galen/Documents/GitHub/behavioral-clo...   \n",
       "\n",
       "                                                left  \\\n",
       "0  C:/Users/Galen/Documents/GitHub/behavioral-clo...   \n",
       "\n",
       "                                               right  steering_angle  \\\n",
       "0  C:/Users/Galen/Documents/GitHub/behavioral-clo...             0.0   \n",
       "\n",
       "   throttle  brake     speed  \n",
       "0       0.0    0.0  8.071614  "
      ]
     },
     "execution_count": 2,
     "metadata": {},
     "output_type": "execute_result"
    }
   ],
   "source": [
    "#load in driving data from simulator and add column names\n",
    "df = pd.read_csv('driving_log.csv', names=['center', 'left', 'right', 'steering_angle',\n",
    "                                               'throttle', 'brake', 'speed'], header=None)\n",
    "#precision of values is 7 digits\n",
    "# 25,781 observations, 6 features, 1 target\n",
    "print(df.shape)\n",
    "df.head(1)"
   ]
  },
  {
   "cell_type": "code",
   "execution_count": 3,
   "metadata": {},
   "outputs": [
    {
     "data": {
      "image/png": "[encoded data removed]",
      "text/plain": [
       "<matplotlib.figure.Figure at 0x1dad9375208>"
      ]
     },
     "metadata": {},
     "output_type": "display_data"
    }
   ],
   "source": [
    "#check distribution of target variable. Gaussian is better. we can see below it has very high kurtosis\n",
    "df.hist('steering_angle', bins=21);"
   ]
  },
  {
   "cell_type": "markdown",
   "metadata": {},
   "source": [
    "As it is, there is an excess of steering angles that are very close to neutral. The model will pick up on this and will learn to steer neutral the large majority of the time. Some data augmentation may be needed to make this distribution closer to normal."
   ]
  },
  {
   "cell_type": "markdown",
   "metadata": {
    "collapsed": true
   },
   "source": [
    "## Training\n",
    "---"
   ]
  },
  {
   "cell_type": "code",
   "execution_count": 5,
   "metadata": {
    "collapsed": true
   },
   "outputs": [],
   "source": [
    "import numpy as np\n",
    "import keras\n",
    "import csv\n",
    "import cv2\n",
    "from sklearn.model_selection import train_test_split\n",
    "from sklearn.utils import shuffle\n",
    "from keras.models import *\n",
    "from keras.layers import *\n",
    "\n",
    "img_rows = 16\n",
    "img_cols = 32\n",
    "data_folder = 'IMG/'\n",
    "batch_size=128\n",
    "nb_epoch=30"
   ]
  },
  {
   "cell_type": "code",
   "execution_count": 6,
   "metadata": {
    "collapsed": true
   },
   "outputs": [],
   "source": [
    "# resize and extract S channel\n",
    "def image_preprocessing(img):\n",
    "    return cv2.resize((cv2.cvtColor(img, cv2.COLOR_RGB2HSV))[:,:,1],(img_cols,img_rows))"
   ]
  },
  {
   "cell_type": "code",
   "execution_count": 7,
   "metadata": {
    "collapsed": true
   },
   "outputs": [],
   "source": [
    "def load_data(X,y,data_folder,delta=0.08):\n",
    "    \"\"\"function to load training data\"\"\"\n",
    "\n",
    "    log_path = 'driving_log.csv'\n",
    "    logs = []\n",
    "\n",
    "    # load logs\n",
    "    with open(log_path,'rt') as f:\n",
    "        reader = csv.reader(f)\n",
    "        for line in reader:\n",
    "            logs.append(line)\n",
    "        log_labels = logs.pop(0)\n",
    "\n",
    "    # load center camera image\n",
    "    for i in range(len(logs)):\n",
    "        for camera, delta in zip([0,1,2], [0,0.08, -0.08]):\n",
    "            img_path = data_folder+ logs[i][camera].split('/')[-1]\n",
    "            img = plt.imread(img_path)\n",
    "            X.append(image_preprocessing(img))\n",
    "            y.append(float(logs[i][3]))"
   ]
  },
  {
   "cell_type": "code",
   "execution_count": 8,
   "metadata": {
    "collapsed": true
   },
   "outputs": [],
   "source": [
    "data={}\n",
    "data['features'] = []\n",
    "data['target'] = []\n",
    "\n",
    "load_data(data['features'], data['target'],data_folder,0.3)\n",
    "\n",
    "X_train = np.array(data['features']).astype('float32')\n",
    "y_train = np.array(data['target']).astype('float32')\n",
    "\n",
    "# flip images on y axis\n",
    "X_train = np.append(X_train,X_train[:,:,::-1],axis=0)\n",
    "y_train = np.append(y_train,-y_train,axis=0)\n",
    "\n",
    "X_train, y_train = shuffle(X_train, y_train)\n",
    "X_train, X_val, y_train, y_val = train_test_split(X_train, y_train, random_state=0, test_size=0.1)\n",
    "\n",
    "# reshape to add channel dimension\n",
    "X_train = X_train.reshape(X_train.shape[0], img_rows, img_cols, 1)\n",
    "X_val = X_val.reshape(X_val.shape[0], img_rows, img_cols, 1)"
   ]
  },
  {
   "cell_type": "code",
   "execution_count": 9,
   "metadata": {
    "collapsed": true
   },
   "outputs": [],
   "source": [
    "model = Sequential([\n",
    "        Lambda(lambda x: x/127.5 - 1.,input_shape=(img_rows,img_cols,1)),\n",
    "        Conv2D(12, 3, input_shape=(img_rows,img_cols,1), activation='relu'),\n",
    "        MaxPooling2D((2,2)),\n",
    "        Conv2D(24, 3, input_shape=(img_rows,img_cols,1), activation='relu'),\n",
    "        MaxPooling2D((2,2)),\n",
    "        Dropout(0.25),\n",
    "        Flatten(),\n",
    "        Dense(100, activation='relu'),\n",
    "        Dense(50, activation='relu'),\n",
    "        Dense(1)\n",
    "    ])"
   ]
  },
  {
   "cell_type": "code",
   "execution_count": 10,
   "metadata": {},
   "outputs": [
    {
     "name": "stdout",
     "output_type": "stream",
     "text": [
      "_________________________________________________________________\n",
      "Layer (type)                 Output Shape              Param #   \n",
      "=================================================================\n",
      "lambda_1 (Lambda)            (None, 16, 32, 1)         0         \n",
      "_________________________________________________________________\n",
      "conv2d_1 (Conv2D)            (None, 14, 30, 12)        120       \n",
      "_________________________________________________________________\n",
      "max_pooling2d_1 (MaxPooling2 (None, 7, 15, 12)         0         \n",
      "_________________________________________________________________\n",
      "conv2d_2 (Conv2D)            (None, 5, 13, 24)         2616      \n",
      "_________________________________________________________________\n",
      "max_pooling2d_2 (MaxPooling2 (None, 2, 6, 24)          0         \n",
      "_________________________________________________________________\n",
      "dropout_1 (Dropout)          (None, 2, 6, 24)          0         \n",
      "_________________________________________________________________\n",
      "flatten_1 (Flatten)          (None, 288)               0         \n",
      "_________________________________________________________________\n",
      "dense_1 (Dense)              (None, 100)               28900     \n",
      "_________________________________________________________________\n",
      "dense_2 (Dense)              (None, 50)                5050      \n",
      "_________________________________________________________________\n",
      "dense_3 (Dense)              (None, 1)                 51        \n",
      "=================================================================\n",
      "Total params: 36,737\n",
      "Trainable params: 36,737\n",
      "Non-trainable params: 0\n",
      "_________________________________________________________________\n"
     ]
    }
   ],
   "source": [
    "model.summary()"
   ]
  },
  {
   "cell_type": "code",
   "execution_count": 11,
   "metadata": {},
   "outputs": [
    {
     "name": "stdout",
     "output_type": "stream",
     "text": [
      "Train on 81372 samples, validate on 9042 samples\n",
      "Epoch 1/30\n",
      "81372/81372 [==============================] - 10s - loss: 0.2057 - val_loss: 0.1408\n",
      "Epoch 2/30\n",
      "81372/81372 [==============================] - 9s - loss: 0.1391 - val_loss: 0.1077\n",
      "Epoch 3/30\n",
      "81372/81372 [==============================] - 9s - loss: 0.1190 - val_loss: 0.0996\n",
      "Epoch 4/30\n",
      "81372/81372 [==============================] - 9s - loss: 0.1078 - val_loss: 0.0842\n",
      "Epoch 5/30\n",
      "81372/81372 [==============================] - 9s - loss: 0.0997 - val_loss: 0.0804\n",
      "Epoch 6/30\n",
      "81372/81372 [==============================] - 9s - loss: 0.0946 - val_loss: 0.0817\n",
      "Epoch 7/30\n",
      "81372/81372 [==============================] - 9s - loss: 0.0907 - val_loss: 0.0737\n",
      "Epoch 8/30\n",
      "81372/81372 [==============================] - 9s - loss: 0.0866 - val_loss: 0.0700\n",
      "Epoch 9/30\n",
      "81372/81372 [==============================] - 9s - loss: 0.0838 - val_loss: 0.0707\n",
      "Epoch 10/30\n",
      "81372/81372 [==============================] - 9s - loss: 0.0813 - val_loss: 0.0662\n",
      "Epoch 11/30\n",
      "81372/81372 [==============================] - 9s - loss: 0.0794 - val_loss: 0.0647\n",
      "Epoch 12/30\n",
      "81372/81372 [==============================] - 9s - loss: 0.0781 - val_loss: 0.0639\n",
      "Epoch 13/30\n",
      "81372/81372 [==============================] - 9s - loss: 0.0761 - val_loss: 0.0660\n",
      "Epoch 14/30\n",
      "81372/81372 [==============================] - 9s - loss: 0.0748 - val_loss: 0.0620\n",
      "Epoch 15/30\n",
      "81372/81372 [==============================] - 9s - loss: 0.0729 - val_loss: 0.0611\n",
      "Epoch 16/30\n",
      "81372/81372 [==============================] - 9s - loss: 0.0723 - val_loss: 0.0586\n",
      "Epoch 17/30\n",
      "81372/81372 [==============================] - 9s - loss: 0.0702 - val_loss: 0.0601\n",
      "Epoch 18/30\n",
      "81372/81372 [==============================] - 9s - loss: 0.0699 - val_loss: 0.0591\n",
      "Epoch 19/30\n",
      "81372/81372 [==============================] - 9s - loss: 0.0685 - val_loss: 0.0576\n",
      "Epoch 20/30\n",
      "81372/81372 [==============================] - 9s - loss: 0.0680 - val_loss: 0.0573\n",
      "Epoch 21/30\n",
      "81372/81372 [==============================] - 9s - loss: 0.0676 - val_loss: 0.0553\n",
      "Epoch 22/30\n",
      "81372/81372 [==============================] - 9s - loss: 0.0664 - val_loss: 0.0574\n",
      "Epoch 23/30\n",
      "81372/81372 [==============================] - 9s - loss: 0.0662 - val_loss: 0.0544\n",
      "Epoch 24/30\n",
      "81372/81372 [==============================] - 9s - loss: 0.0654 - val_loss: 0.0553\n",
      "Epoch 25/30\n",
      "81372/81372 [==============================] - 9s - loss: 0.0647 - val_loss: 0.0548\n",
      "Epoch 26/30\n",
      "81372/81372 [==============================] - 9s - loss: 0.0641 - val_loss: 0.0551\n",
      "Epoch 27/30\n",
      "81372/81372 [==============================] - 9s - loss: 0.0627 - val_loss: 0.0550\n",
      "Epoch 28/30\n",
      "81372/81372 [==============================] - 9s - loss: 0.0630 - val_loss: 0.0529\n",
      "Epoch 29/30\n",
      "81372/81372 [==============================] - 9s - loss: 0.0622 - val_loss: 0.0563\n",
      "Epoch 30/30\n",
      "81372/81372 [==============================] - 9s - loss: 0.0626 - val_loss: 0.0546\n"
     ]
    }
   ],
   "source": [
    "model.compile(loss='mean_squared_error',optimizer='adam')\n",
    "history = model.fit(X_train, y_train,batch_size=batch_size, epochs=nb_epoch,verbose=1, validation_data=(X_val, y_val))"
   ]
  },
  {
   "cell_type": "code",
   "execution_count": 16,
   "metadata": {},
   "outputs": [
    {
     "data": {
      "image/png": "[encoded data removed]",
      "text/plain": [
       "<matplotlib.figure.Figure at 0x1da804dd908>"
      ]
     },
     "metadata": {},
     "output_type": "display_data"
    }
   ],
   "source": [
    "plt.figure()\n",
    "plt.plot(history.history['loss'],'x-')\n",
    "plt.plot(history.history['val_loss'],'o-')\n",
    "plt.title('model mean squared error loss')\n",
    "plt.ylabel('mean squared error loss')\n",
    "plt.xlabel('epoch')\n",
    "plt.legend(['training set', 'validation set'], loc='upper right')\n",
    "plt.grid()\n",
    "plt.tight_layout()\n",
    "plt.savefig('saved_graphs/model.png')\n",
    "plt.show()"
   ]
  },
  {
   "cell_type": "markdown",
   "metadata": {},
   "source": [
    "\n",
    "## First Network"
   ]
  },
  {
   "cell_type": "code",
   "execution_count": 14,
   "metadata": {
    "collapsed": true
   },
   "outputs": [],
   "source": [
    "model = Sequential()\n",
    "model.add(Lambda(lambda x: x/255 - 0.5, input_shape=(160,320,3)))\n",
    "#amount of cropping is tuneable\n",
    "model.add(Cropping2D(cropping=((75, 25), (0, 0))))\n",
    "\n",
    "model.add(Conv2D(24,5, activation='elu'))\n",
    "model.add(MaxPooling2D()) #(2,2) pool with no stride, valid padding\n",
    "\n",
    "model.add(Conv2D(36,5, activation='elu'))\n",
    "model.add(MaxPooling2D())\n",
    "\n",
    "model.add(Conv2D(48,5, activation='elu'))\n",
    "model.add(MaxPooling2D())\n",
    "\n",
    "model.add(Conv2D(64,3, activation='elu'))\n",
    "model.add(Dropout(0.5))\n",
    "\n",
    "model.add(Flatten())\n",
    "model.add(Dense(511, activation='relu'))\n",
    "model.add(Dropout(0.5))\n",
    "\n",
    "model.add(Dense(127, activation='relu'))\n",
    "model.add(Dense(31, activation='relu'))\n",
    "model.add(Dense(1))"
   ]
  },
  {
   "cell_type": "code",
   "execution_count": 15,
   "metadata": {},
   "outputs": [
    {
     "name": "stdout",
     "output_type": "stream",
     "text": [
      "_________________________________________________________________\n",
      "Layer (type)                 Output Shape              Param #   \n",
      "=================================================================\n",
      "lambda_2 (Lambda)            (None, 160, 320, 3)       0         \n",
      "_________________________________________________________________\n",
      "cropping2d_1 (Cropping2D)    (None, 60, 320, 3)        0         \n",
      "_________________________________________________________________\n",
      "conv2d_3 (Conv2D)            (None, 56, 316, 24)       1824      \n",
      "_________________________________________________________________\n",
      "max_pooling2d_3 (MaxPooling2 (None, 28, 158, 24)       0         \n",
      "_________________________________________________________________\n",
      "conv2d_4 (Conv2D)            (None, 24, 154, 36)       21636     \n",
      "_________________________________________________________________\n",
      "max_pooling2d_4 (MaxPooling2 (None, 12, 77, 36)        0         \n",
      "_________________________________________________________________\n",
      "conv2d_5 (Conv2D)            (None, 8, 73, 48)         43248     \n",
      "_________________________________________________________________\n",
      "max_pooling2d_5 (MaxPooling2 (None, 4, 36, 48)         0         \n",
      "_________________________________________________________________\n",
      "conv2d_6 (Conv2D)            (None, 2, 34, 64)         27712     \n",
      "_________________________________________________________________\n",
      "dropout_2 (Dropout)          (None, 2, 34, 64)         0         \n",
      "_________________________________________________________________\n",
      "flatten_2 (Flatten)          (None, 4352)              0         \n",
      "_________________________________________________________________\n",
      "dense_4 (Dense)              (None, 511)               2224383   \n",
      "_________________________________________________________________\n",
      "dropout_3 (Dropout)          (None, 511)               0         \n",
      "_________________________________________________________________\n",
      "dense_5 (Dense)              (None, 127)               65024     \n",
      "_________________________________________________________________\n",
      "dense_6 (Dense)              (None, 31)                3968      \n",
      "_________________________________________________________________\n",
      "dense_7 (Dense)              (None, 1)                 32        \n",
      "=================================================================\n",
      "Total params: 2,387,827\n",
      "Trainable params: 2,387,827\n",
      "Non-trainable params: 0\n",
      "_________________________________________________________________\n",
      "None\n"
     ]
    }
   ],
   "source": [
    "print(model.summary())"
   ]
  },
  {
   "cell_type": "code",
   "execution_count": null,
   "metadata": {
    "collapsed": true
   },
   "outputs": [],
   "source": []
  }
 ],
 "metadata": {
  "kernelspec": {
   "display_name": "Python [conda root]",
   "language": "python",
   "name": "conda-root-py"
  },
  "language_info": {
   "codemirror_mode": {
    "name": "ipython",
    "version": 3
   },
   "file_extension": ".py",
   "mimetype": "text/x-python",
   "name": "python",
   "nbconvert_exporter": "python",
   "pygments_lexer": "ipython3",
   "version": "3.5.3"
  }
 },
 "nbformat": 4,
 "nbformat_minor": 2
}
